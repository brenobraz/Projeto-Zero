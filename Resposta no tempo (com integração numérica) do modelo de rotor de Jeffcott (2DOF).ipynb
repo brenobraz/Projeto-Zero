{
 "cells": [
  {
   "cell_type": "markdown",
   "metadata": {},
   "source": [
    "# Integração numérica"
   ]
  },
  {
   "cell_type": "markdown",
   "metadata": {},
   "source": [
    "Pare encontrarmos a solução no tempo da equação $ m\\ddot{x}(t) + c\\dot{x}(t) + kx(t) = f(t)$ iremos utilizar a função odeint do scipy."
   ]
  },
  {
   "cell_type": "markdown",
   "metadata": {},
   "source": [
    "Vendo o help da função odeint (scipy.integrate.odeint?):\n",
    "```\n",
    "scipy.integrate.odeint(func, y0, t,...)\n",
    "\n",
    "Parameters:\t\n",
    "func : callable(y, t0, ...)\n",
    "\n",
    "Computes the derivative of y at t0.\n",
    "\n",
    "y0 : array\n",
    "\n",
    "Initial condition on y (can be a vector).\n",
    "\n",
    "t : array\n",
    "\n",
    "A sequence of time points for which to solve for y. The initial value point should be the first element of this sequence.\n",
    "```"
   ]
  },
  {
   "cell_type": "markdown",
   "metadata": {},
   "source": [
    "Observando o help também notamos:\n",
    "> Solves the initial value problem for stiff or non-stiff systems of _**first order**_ ode-s:\n",
    "\n",
    "Para transformamos a equação de segunda ordem em um sistema de primeira ordem utilizamos as variáveis $x_1 = x(t)$ e $x_2 = \\dot{x}(t)$."
   ]
  },
  {
   "cell_type": "markdown",
   "metadata": {},
   "source": [
    "\\begin{equation}\n",
    "m\\ddot{x}(t) + c\\dot{x}(t) + kx(t) = f(t)\\\\\n",
    "\\downarrow\\\\\n",
    "\\dot{x}_1(t) = x_2(t)\\\\\n",
    "\\dot{x}_2(t) = \\frac{f(t)}{m} -\\frac{c}{m}\\ x_2(t) - \\frac{k}{m}\\ x_1(t)\n",
    "\\end{equation}"
   ]
  },
  {
   "cell_type": "markdown",
   "metadata": {},
   "source": [
    "Esse sistema pode ser descrito com matrizes:\n",
    "\\begin{equation}\n",
    "{\\bf A} = \n",
    "\\left[ \\matrix{\n",
    "0 & 1 \\\\\n",
    "-\\frac{k}{m} & -\\frac{c}{m}  \\\\\n",
    "} \\right] \\ \\ \\ \\ \\ \n",
    "{\\bf x}(t) = \n",
    "\\left[ \\matrix{\n",
    "x_1(t) \\\\\n",
    "x_2(t) \\\\\n",
    "} \\right] \\\\\n",
    "\\\\\n",
    "\\\n",
    "\\\\\n",
    "\\dot{\\bf x}(t) = A{\\bf x}(t)\n",
    "\\end{equation}"
   ]
  },
  {
   "cell_type": "code",
   "execution_count": null,
   "metadata": {
    "collapsed": false
   },
   "outputs": [],
   "source": [
    "import scipy as sp\n",
    "from scipy.integrate import odeint\n",
    "import matplotlib.pyplot as plt\n",
    "%matplotlib inline"
   ]
  },
  {
   "cell_type": "markdown",
   "metadata": {},
   "source": [
    "### Escrever a função que calcula a derivada de x em t:"
   ]
  },
  {
   "cell_type": "code",
   "execution_count": null,
   "metadata": {
    "collapsed": true
   },
   "outputs": [],
   "source": [
    "def fun(x, t):\n",
    "    m=100\n",
    "    c=200\n",
    "    k=2000\n",
    "    w = 10\n",
    "    F0 = 150\n",
    "    \n",
    "    # definir x1 e x2:\n",
    "    x1, x2 = x\n",
    "    \n",
    "    # calcular dxdt utilizando a função cos como forçamento (F0*sp.cos)\n",
    "    dxdt = [x2, F0*sp.cos(w*t)/m - (c/m)*x2 - (k/m)*x1]\n",
    "    \n",
    "    return dxdt"
   ]
  },
  {
   "cell_type": "markdown",
   "metadata": {},
   "source": [
    "### Determinar condições iniciais e o intervalo de tempo:"
   ]
  },
  {
   "cell_type": "code",
   "execution_count": null,
   "metadata": {
    "collapsed": false
   },
   "outputs": [],
   "source": [
    "# Condições iniciais\n",
    "x0=0.01\n",
    "v0=0.1\n",
    "\n",
    "#Criar array com condições iniciais\n",
    "z0 = [xo, vo]\n",
    "\n",
    "# Criar array com o tempo\n",
    "tf = 6\n",
    "t = sp.linspace(0,tf,1000)"
   ]
  },
  {
   "cell_type": "markdown",
   "metadata": {},
   "source": [
    "### Calcular a solução"
   ]
  },
  {
   "cell_type": "code",
   "execution_count": null,
   "metadata": {
    "collapsed": true
   },
   "outputs": [],
   "source": [
    "sol = odeint(fun, z0, t)"
   ]
  },
  {
   "cell_type": "markdown",
   "metadata": {},
   "source": [
    "### Plotar solução deslocamento x tempo:"
   ]
  },
  {
   "cell_type": "code",
   "execution_count": 38,
   "metadata": {
    "collapsed": false
   },
   "outputs": [
    {
     "data": {
      "text/plain": [
       "<matplotlib.text.Text at 0x9f7e2e8>"
      ]
     },
     "execution_count": 38,
     "metadata": {},
     "output_type": "execute_result"
    },
    {
     "data": {
      "image/png": "[encoded data removed]",
      "text/plain": [
       "<matplotlib.figure.Figure at 0x9fcfd68>"
      ]
     },
     "metadata": {},
     "output_type": "display_data"
    }
   ],
   "source": [
    "plt.plot(???, label='x1(t)')\n",
    "plt.legend()\n",
    "plt.xlabel('t')"
   ]
  },
  {
   "cell_type": "markdown",
   "metadata": {},
   "source": [
    "### Plotar solução velocidade x tempo:"
   ]
  },
  {
   "cell_type": "code",
   "execution_count": 39,
   "metadata": {
    "collapsed": false
   },
   "outputs": [
    {
     "data": {
      "text/plain": [
       "<matplotlib.text.Text at 0x9f60710>"
      ]
     },
     "execution_count": 39,
     "metadata": {},
     "output_type": "execute_result"
    },
    {
     "data": {
      "image/png": "[encoded data removed]",
      "text/plain": [
       "<matplotlib.figure.Figure at 0xa03d5f8>"
      ]
     },
     "metadata": {},
     "output_type": "display_data"
    }
   ],
   "source": [
    "plt.plot(???, label='x2(t)')\n",
    "plt.legend()\n",
    "plt.xlabel('t')"
   ]
  },
  {
   "cell_type": "code",
   "execution_count": null,
   "metadata": {
    "collapsed": true
   },
   "outputs": [],
   "source": []
  }
 ],
 "metadata": {
  "kernelspec": {
   "display_name": "Python [default]",
   "language": "python",
   "name": "python3"
  },
  "language_info": {
   "codemirror_mode": {
    "name": "ipython",
    "version": 3
   },
   "file_extension": ".py",
   "mimetype": "text/x-python",
   "name": "python",
   "nbconvert_exporter": "python",
   "pygments_lexer": "ipython3",
   "version": "3.5.2"
  }
 },
 "nbformat": 4,
 "nbformat_minor": 0
}
